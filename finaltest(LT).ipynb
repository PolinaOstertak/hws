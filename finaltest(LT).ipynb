{
 "cells": [
  {
   "cell_type": "markdown",
   "metadata": {},
   "source": [
    "Задача 1. Напишите программу, которая считает объем шара. Запрашивается радиус (не обязательно целое число), выводится объем."
   ]
  },
  {
   "cell_type": "code",
   "execution_count": 1,
   "metadata": {},
   "outputs": [
    {
     "data": {
      "text/plain": [
       "523.5987755982989"
      ]
     },
     "execution_count": 1,
     "metadata": {},
     "output_type": "execute_result"
    }
   ],
   "source": [
    "import math\n",
    "\n",
    "def volume(r):\n",
    "  return 4 / 3 * math.pi * r ** 3\n",
    "d = volume(float(input()))\n",
    "d"
   ]
  },
  {
   "cell_type": "markdown",
   "metadata": {},
   "source": [
    "Задача 2. Вводится две строки. Посчитайте, сколько процентов от длины первой строки составляет длина второй строки."
   ]
  },
  {
   "cell_type": "code",
   "execution_count": null,
   "metadata": {},
   "outputs": [],
   "source": [
    "def percent(s1, s2):\n",
    "  return len(s2) / len(s1) * 100\n",
    "d = percent(input(), input())\n",
    "d"
   ]
  },
  {
   "cell_type": "markdown",
   "metadata": {},
   "source": [
    "Задача 3. Вводится список. Если список упорядочен по возрастанию, выведите \"по возрастанию\", если по убыванию - то \"по убыванию\", а если не упорядочен - то \"не упорядочен\"."
   ]
  },
  {
   "cell_type": "code",
   "execution_count": 2,
   "metadata": {},
   "outputs": [
    {
     "data": {
      "text/plain": [
       "'по убыванию'"
      ]
     },
     "execution_count": 2,
     "metadata": {},
     "output_type": "execute_result"
    }
   ],
   "source": [
    "def checker(lst):\n",
    "  if sorted(lst) == lst:\n",
    "    return 'по возрастанию'\n",
    "  elif sorted(lst)[::-1] == lst:\n",
    "    return 'по убыванию'\n",
    "  else:\n",
    "    return  'не упорядочен'\n",
    "d = checker(input().split())\n",
    "d"
   ]
  },
  {
   "cell_type": "markdown",
   "metadata": {},
   "source": [
    "Задача 4. Дано N слов: сначала вводится число N, затем вводится ровно N слов английского языка (без пробелов, но могут быть с большой буквы). Подсчитайте количество артиклей \"the\" среди введенных слов и выведите это количество."
   ]
  },
  {
   "cell_type": "code",
   "execution_count": null,
   "metadata": {},
   "outputs": [],
   "source": [
    "def the_counter(n):\n",
    "  L = []\n",
    "  while n != 0:\n",
    "    a = input()\n",
    "    L.append(a.lower())\n",
    "    n -= 1\n",
    "  if 'the' in L:\n",
    "    return L.count('the')\n",
    "d = the_counter(int(input()))\n",
    "d"
   ]
  },
  {
   "cell_type": "markdown",
   "metadata": {},
   "source": [
    "Задача 5. Программе на вход подается число в римской записи, то есть, строка содержит заглавные латинские буквы: I, V, X, C, D, M, причем IV - это 4, XC - это 90, CM - это 900. Программа должна переводить это число в арабское"
   ]
  },
  {
   "cell_type": "code",
   "execution_count": 3,
   "metadata": {},
   "outputs": [
    {
     "data": {
      "text/plain": [
       "98"
      ]
     },
     "execution_count": 3,
     "metadata": {},
     "output_type": "execute_result"
    }
   ],
   "source": [
    "d = {'I': 1, 'V': 5, 'X': 10, 'L': 50, 'C': 100, 'D': 500, 'M': 1000}\n",
    "n = input()\n",
    "s = 0\n",
    "for i in range(len(n)):\n",
    "  if i >= 1:\n",
    "    if d[n[i]] > d[n[i - 1]]:\n",
    "      s += d[n[i]] - d[n[i - 1]]\n",
    "    else:\n",
    "      s += d[n[i]]\n",
    "s"
   ]
  },
  {
   "cell_type": "markdown",
   "metadata": {},
   "source": [
    "Задача 6. Сначала с экрана водится натуральное число X. Далее пользователь вводит последовательность чисел: числа вводятся последовательно по одному (списки с числами через пробел использовать нельзя!), последовательность завершается числом 0. Если в последовательности в какой-то момент встречается число X, программа должна прервать процесс и напечатать, каким по счёту в последовательности было это число. Если же число X не встретилось и последовательность закончилась, следует напечатать: \"Число X не встретилось\" (вместо 'X' должно быть его значение)."
   ]
  },
  {
   "cell_type": "code",
   "execution_count": 4,
   "metadata": {},
   "outputs": [
    {
     "name": "stdout",
     "output_type": "stream",
     "text": [
      "число 5 не встретилось\n"
     ]
    }
   ],
   "source": [
    "x = input()\n",
    "a = input()\n",
    "N = []\n",
    "while a != '0':\n",
    "  N.append(a)\n",
    "  a = input()\n",
    "  if a == x:\n",
    "    N.append(x)\n",
    "\n",
    "\n",
    "    print(N.index(x) + 1)\n",
    "    break\n",
    "else:\n",
    "  print(f'число {x} не встретилось')"
   ]
  },
  {
   "cell_type": "markdown",
   "metadata": {},
   "source": [
    "Задача 7. Пользователь вводит текст, в котором встречаются цифры. Напишите функцию, которая будет находить цифры и печатать в столбик."
   ]
  },
  {
   "cell_type": "code",
   "execution_count": 5,
   "metadata": {},
   "outputs": [
    {
     "name": "stdout",
     "output_type": "stream",
     "text": [
      "1\n",
      "2\n",
      "3\n",
      "4\n",
      "5\n",
      "2\n",
      "3\n"
     ]
    }
   ],
   "source": [
    "def findn (s):\n",
    "  for i in s:\n",
    "    if i.isdigit():\n",
    "      print(i, end='\\n')\n",
    "d = findn('12345 ваз 23 Вали')"
   ]
  },
  {
   "cell_type": "markdown",
   "metadata": {},
   "source": [
    "Задача 9. Панграмма - это такое предложение, в котором все буквы алфавита встречаются по одному разу.\n",
    "\n",
    "Напишите функцию, которая будет принимать строку с предложением и проверять, что оно - панграмма"
   ]
  },
  {
   "cell_type": "code",
   "execution_count": null,
   "metadata": {},
   "outputs": [],
   "source": [
    "def pangram(string):\n",
    "  return set('абвгдеёжзийклмнопрстуфхцчшщъыьэюя') <= set(string.lower())\n",
    "assert pangram('Любя, съешь щипцы, — вздохнёт мэр, — кайф жгуч.')"
   ]
  },
  {
   "cell_type": "markdown",
   "metadata": {},
   "source": [
    "Задача 10. Напишите функцию, которая проверяет, что введенная строка - палиндром (пробелы учитываться не должны). Функция должна быть рекурсивной."
   ]
  },
  {
   "cell_type": "code",
   "execution_count": 6,
   "metadata": {},
   "outputs": [
    {
     "name": "stdout",
     "output_type": "stream",
     "text": [
      "Палиндром\n"
     ]
    }
   ],
   "source": [
    "def pal(w):\n",
    "  w = w.replace(' ', '')\n",
    "  if len(w) <= 1:\n",
    "    return 'палиндром'\n",
    "  else:\n",
    "    if w[0] == w[-1]:\n",
    "      return pal(w[1:-1])\n",
    "    else:\n",
    "      return 'не палиндром'\n",
    "d = pal(input())\n",
    "if d == 'палиндром':\n",
    "  print('Палиндром')\n",
    "else:\n",
    "  print('Не палиндром')"
   ]
  },
  {
   "cell_type": "markdown",
   "metadata": {},
   "source": [
    "Задача 11. Каждый из некоторого множества школьников некоторой школы знает некоторое количество языков. Нужно определить сколько языков знают все школьники, и сколько языков знает хотя бы один из школьников.\n",
    "\n",
    "Сперва задается количество школьников. Для каждого из школьников сперва указывается количество языков, которое он знает, а затем - названия языков, по одному в строке.\n",
    "\n",
    "В первой строке выведите количество языков, которые знают все школьники. Начиная со второй строки - список таких языков. Затем - количество языков, которые знает хотя бы один школьник, на следующих строках - список таких языков. Языки нужно выводить в лексикографическом порядке, по одному на строке."
   ]
  },
  {
   "cell_type": "code",
   "execution_count": 8,
   "metadata": {},
   "outputs": [
    {
     "name": "stdout",
     "output_type": "stream",
     "text": [
      "1\n",
      "русский\n",
      "2\n",
      "английский\n",
      "русский\n"
     ]
    }
   ],
   "source": [
    "s = int(input())\n",
    "L = []\n",
    "for i in range(s):\n",
    "  L.append(set())\n",
    "  for j in range(int(input())):\n",
    "    L[i].add(input())\n",
    "one = set.union(*L)\n",
    "all = set.intersection(*L)\n",
    "print(len(all))\n",
    "print(*sorted(all), sep='\\n')\n",
    "print(len(one))\n",
    "print(*sorted(one), sep='\\n')"
   ]
  },
  {
   "cell_type": "markdown",
   "metadata": {},
   "source": [
    "Задача 12. Напишите свою собственную простейшую функцию токенизации, которая оставляет только список слов (без пунктуации и всего остального). Подумайте про слова с дефисами"
   ]
  },
  {
   "cell_type": "code",
   "execution_count": null,
   "metadata": {},
   "outputs": [],
   "source": [
    "def wordization(string) -> list:\n",
    "  for i in [',', '.', ':', ';', '!', '?', ' - ']:\n",
    "    string = string.replace(i, '')\n",
    "  return string\n",
    "d = wordization(input())\n",
    "d"
   ]
  },
  {
   "cell_type": "markdown",
   "metadata": {},
   "source": [
    "Задача 14. В базе данных ветеринарной клиники информация о пациентах-котах хранится в списке кортежей. Данные о кошках и их владельцах записаны в формате «Кличка животного, Возраст животного, Имя владельца, Фамилия владельца»"
   ]
  },
  {
   "cell_type": "code",
   "execution_count": 7,
   "metadata": {},
   "outputs": [
    {
     "name": "stdout",
     "output_type": "stream",
     "text": [
      "('Алексей Егоров:', 'Мартин, 5')\n",
      "('Анна Самохина:', 'Фродо, 3')\n",
      "('Андрей Белов:', 'Вася, 4; Матильда, 8')\n",
      "('Игорь Бероев:', 'Муся, 7; Изольда, 2')\n",
      "('Марина Апраксина:', 'Снейп, 1; Снежок, 3')\n",
      "('Виталий Соломин:', 'Лютик, 4; Барсик, 2')\n",
      "('Сергей Колесников:', 'Марта, 5')\n",
      "('Алена Федорова:', 'Буся, 12')\n",
      "('Игорь Андропов:', 'Джонни, 10')\n",
      "('Даниил Невзоров:', 'Мурзик, 1')\n",
      "('Владимир Медведев:', 'Рыжик, 7')\n",
      "('Александр Березуев:', 'Гарфилд, 3')\n"
     ]
    }
   ],
   "source": [
    "cats = [('Мартин', 5, 'Алексей', 'Егоров'),\n",
    "        ('Фродо', 3, 'Анна', 'Самохина'),\n",
    "        ('Вася', 4, 'Андрей', 'Белов'),\n",
    "        ('Муся', 7, 'Игорь', 'Бероев'),\n",
    "        ('Изольда', 2, 'Игорь', 'Бероев'),\n",
    "        ('Снейп', 1, 'Марина', 'Апраксина'),\n",
    "        ('Лютик', 4, 'Виталий', 'Соломин'),\n",
    "        ('Снежок', 3, 'Марина', 'Апраксина'),\n",
    "        ('Марта', 5, 'Сергей', 'Колесников'),\n",
    "        ('Буся', 12, 'Алена', 'Федорова'),\n",
    "        ('Джонни', 10, 'Игорь', 'Андропов'),\n",
    "        ('Мурзик', 1,'Даниил', 'Невзоров'),\n",
    "        ('Барсик', 2, 'Виталий', 'Соломин'),\n",
    "        ('Рыжик', 7, 'Владимир', 'Медведев'),\n",
    "        ('Матильда', 8, 'Андрей', 'Белов'),\n",
    "        ('Гарфилд', 3, 'Александр', 'Березуев')]\n",
    "s = {}\n",
    "for c in cats:\n",
    "  p = c[0] + ', ' + str(c[1])\n",
    "  s.setdefault(c[2:], []).append(p)\n",
    "for k, v in s.items():\n",
    "  b = ' '.join(k) + ':', '; '.join(v)\n",
    "  print(b)"
   ]
  }
 ],
 "metadata": {
  "kernelspec": {
   "display_name": "Python 3",
   "language": "python",
   "name": "python3"
  },
  "language_info": {
   "codemirror_mode": {
    "name": "ipython",
    "version": 3
   },
   "file_extension": ".py",
   "mimetype": "text/x-python",
   "name": "python",
   "nbconvert_exporter": "python",
   "pygments_lexer": "ipython3",
   "version": "3.9.13"
  }
 },
 "nbformat": 4,
 "nbformat_minor": 2
}
